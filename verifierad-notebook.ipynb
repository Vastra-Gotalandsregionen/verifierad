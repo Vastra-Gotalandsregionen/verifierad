{
 "cells": [
  {
   "cell_type": "code",
   "execution_count": 10,
   "metadata": {
    "collapsed": true
   },
   "outputs": [],
   "source": [
    "# importing dependencies\n",
    "import default, test, helper, checks.technical"
   ]
  },
  {
   "cell_type": "code",
   "execution_count": 11,
   "metadata": {
    "collapsed": true
   },
   "outputs": [],
   "source": [
    "# properties for the evaluation\n",
    "url_to_check = 'http://vgregion.se'\n",
    "skip_pages_older_than = '2017-02-17T06:19:00+01:00' # content without timestamps is included no matter this setting\n",
    "limit_pages = 10 # the number of URLs to check\n",
    "type_of_check = 'googlePageSpeed' \n",
    "# checks available: httpStatusCodeCheck, sitemapCheck, urlHarvest, googlePageSpeed, mobileFriendlyCheck, contentCheck, findString"
   ]
  },
  {
   "cell_type": "code",
   "execution_count": 12,
   "metadata": {
    "scrolled": true
   },
   "outputs": [
    {
     "name": "stdout",
     "output_type": "stream",
     "text": [
      "Found 1515 URLs in the sitemap you provided.\n",
      "1. Checking content of URL 'http://www.vgregion.se/halsa-och-vard/vardgivarwebben/it/it-system/obstetrix/support/'.\n",
      "2. Checking content of URL 'http://www.vgregion.se/halsa-och-vard/vardgivarwebben/it/it-system/obstetrix/'.\n",
      "3. Checking content of URL 'http://www.vgregion.se/jobba-i-vgr/utbildning-och-kompetens/fortbildning-for-specialistlakare/psykiatri/'.\n",
      "4. Checking content of URL 'http://www.vgregion.se/ov/ISM/natverk-for-di-som-arbetar-med-stress/aktuellt-i-natverket/natverkstraff-27-februari/'.\n",
      "5. Checking content of URL 'http://www.vgregion.se/ov/ISM/stress--rad-och-behandling/Nyheter_Stress_rad_och_behandling/natverkstraff-27-februari/'.\n",
      "6. Checking content of URL 'http://www.vgregion.se/halsa-och-vard/vardgivarwebben/utveckling--uppfoljning/utbildning/webbutbildningar/triangelrevision/aktuellt/'.\n",
      "7. Checking content of URL 'http://www.vgregion.se/regional-utveckling/verksamhetsomraden/externa-relationer/VastraGotalandiEU/eu-program/utlysningar/vastsveriges-regionala-strukturfondsprogram/'.\n",
      "8. Checking content of URL 'http://www.vgregion.se/s/skaraborgs-sjukhus/utbildning/at-utbildning/utbildningar-och-kurser/'.\n",
      "9. Checking content of URL 'http://www.vgregion.se/s/skaraborgs-sjukhus/utbildning/at-utbildning/utbildningar-och-kurser/torsdagsforelasningar-skovde/'.\n",
      "10. Checking content of URL 'http://www.vgregion.se/s/skaraborgs-sjukhus/utbildning/at-utbildning/at-lunch/'.\n",
      "Report written to disk at rapporter/2017-12-11_contentCheck_24b23.csv\n"
     ]
    }
   ],
   "source": [
    "#method = 'oneOffFromSitemap' # oneOffFromSitemap is currently the only method, for now\n",
    "url_to_sitemap = url_to_check + '/sitemap.xml'\n",
    "default.oneOffFromSitemap(url_to_sitemap, limit_pages, skip_pages_older_than, type_of_check, type_of_check)"
   ]
  },
  {
   "cell_type": "code",
   "execution_count": null,
   "metadata": {
    "collapsed": true
   },
   "outputs": [],
   "source": []
  }
 ],
 "metadata": {
  "kernelspec": {
   "display_name": "Python 3",
   "language": "python",
   "name": "python3"
  }
 },
 "nbformat": 4,
 "nbformat_minor": 2
}
